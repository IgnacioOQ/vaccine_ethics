{
 "cells": [
  {
   "cell_type": "markdown",
   "metadata": {},
   "source": [
    "# Setup"
   ]
  },
  {
   "cell_type": "code",
   "execution_count": null,
   "metadata": {},
   "outputs": [],
   "source": [
    "from imports import *\n",
    "from agent_class import FullAgent, FullAgent2\n",
    "from simulation_class import Simulation, Simulation2"
   ]
  },
  {
   "cell_type": "markdown",
   "metadata": {},
   "source": [
    "# With Network Migration    "
   ]
  },
  {
   "cell_type": "code",
   "execution_count": null,
   "metadata": {},
   "outputs": [],
   "source": [
    "simulation_results = pd.DataFrame(columns=[\"step\", \"dead_proportion\", \"max_infected\", \"auc_infected\", \"avg_viral_age\", \n",
    "                                           \"avg_immunity\",\"non_vulnerable_proportion_dead\",\"vulnerable_proportion_dead\",\"seed\"])\n",
    "\n",
    "simulation = Simulation2(grid_size=20, num_agents=500, agent_class = FullAgent2, init_infected_proportion = 0.1,\n",
    "                 proportion_vulnerable=0.1, vul_penalty = 2,\n",
    "                 infection_prob=0.25, recovery_time=30, death_prob=0.01,\n",
    "                 vax_vulnerable=True,\n",
    "                 vax_all=False,\n",
    "                 vax_effect = 0.7,\n",
    "                 viral_age_effect = 0.1,\n",
    "                 immune_adaptation_effect = 0.1,\n",
    "                 plot=True)\n",
    "simulation.run(500)  # Run for 20 iterations\n",
    "# simulation.plot_hist()\n",
    "results = simulation.generate_simulation_report()\n",
    "simulation_results.loc[len(simulation_results)] = results\n",
    "# simulation_results = pd.concat([simulation_results, results], ignore_index=True)\n",
    "simulation_results"
   ]
  }
 ],
 "metadata": {
  "kernelspec": {
   "display_name": "Python 3",
   "language": "python",
   "name": "python3"
  },
  "language_info": {
   "codemirror_mode": {
    "name": "ipython",
    "version": 3
   },
   "file_extension": ".py",
   "mimetype": "text/x-python",
   "name": "python",
   "nbconvert_exporter": "python",
   "pygments_lexer": "ipython3",
   "version": "3.10.7"
  }
 },
 "nbformat": 4,
 "nbformat_minor": 2
}
