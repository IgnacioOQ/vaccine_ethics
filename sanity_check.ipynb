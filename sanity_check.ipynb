{
 "cells": [
  {
   "cell_type": "markdown",
   "metadata": {},
   "source": [
    "# Setup"
   ]
  },
  {
   "cell_type": "code",
   "execution_count": null,
   "metadata": {},
   "outputs": [],
   "source": [
    "from imports import *\n",
    "from agent_class import FullAgent\n",
    "from simulation_class import Simulation"
   ]
  },
  {
   "cell_type": "markdown",
   "metadata": {},
   "source": [
    "# Cyclical Case (SIS)\n",
    "\n",
    "- No death\n",
    "- 0.1 vulnerable\n",
    "- No vaccination\n",
    "- No viral aging\n",
    "- No immunity adaptation"
   ]
  },
  {
   "cell_type": "code",
   "execution_count": null,
   "metadata": {},
   "outputs": [],
   "source": [
    "simulation_results = pd.DataFrame(columns=[\"step\", \"dead_proportion\", \"max_infected\", \"auc_infected\", \"avg_viral_age\", \n",
    "                                           \"avg_immunity\",\"non_vulnerable_proportion_dead\",\"vulnerable_proportion_dead\",\"seed\"])\n",
    "\n",
    "simulation = Simulation(grid_size=25, num_agents=500, agent_class = FullAgent, init_infected_proportion = 0.1,\n",
    "                 proportion_vulnerable=0.1, vul_penalty = 0.1,\n",
    "                 infection_prob=0.25, recovery_time=30, death_prob=0,\n",
    "                 vax_vulnerable=False,\n",
    "                 vax_all=False,\n",
    "                 vax_effect = 0.7,\n",
    "                 viral_age_effect = 0,\n",
    "                 immune_adaptation_effect = 0,\n",
    "                 plot=True)\n",
    "simulation.run(500)  # Run for 20 iterations\n",
    "# simulation.plot_hist()\n",
    "results = simulation.generate_simulation_report()\n",
    "simulation_results.loc[len(simulation_results)] = results\n",
    "# simulation_results = pd.concat([simulation_results, results], ignore_index=True)\n",
    "simulation_results"
   ]
  },
  {
   "cell_type": "markdown",
   "metadata": {},
   "source": [
    "# Death (SID)\n",
    "\n",
    "- No vaccination\n",
    "- No viral aging\n",
    "- No immunity adaptation\n",
    "- 0.1 vulnerable"
   ]
  },
  {
   "cell_type": "code",
   "execution_count": null,
   "metadata": {},
   "outputs": [],
   "source": [
    "simulation_results = pd.DataFrame(columns=[\"step\", \"dead_proportion\", \"max_infected\", \"auc_infected\", \"avg_viral_age\", \n",
    "                                           \"avg_immunity\",\"non_vulnerable_proportion_dead\",\"vulnerable_proportion_dead\",\"seed\"])\n",
    "\n",
    "simulation = Simulation(grid_size=25, num_agents=500, agent_class = FullAgent, init_infected_proportion = 0.1,\n",
    "                 proportion_vulnerable=0.1, vul_penalty = 0.1,\n",
    "                 infection_prob=0.25, recovery_time=30, death_prob=0.01,\n",
    "                 vax_vulnerable=False,\n",
    "                 vax_all=False,\n",
    "                 vax_effect = 0.7,\n",
    "                 viral_age_effect = 0,\n",
    "                 immune_adaptation_effect = 0,\n",
    "                 plot=True)\n",
    "simulation.run(500)  # Run for 20 iterations\n",
    "# simulation.plot_hist()\n",
    "results = simulation.generate_simulation_report()\n",
    "simulation_results.loc[len(simulation_results)] = results\n",
    "# simulation_results = pd.concat([simulation_results, results], ignore_index=True)\n",
    "simulation_results"
   ]
  },
  {
   "cell_type": "markdown",
   "metadata": {},
   "source": [
    "# Viral Aging and Immunity, but no Death (SIIM)"
   ]
  },
  {
   "cell_type": "code",
   "execution_count": null,
   "metadata": {},
   "outputs": [],
   "source": [
    "simulation_results = pd.DataFrame(columns=[\"step\", \"dead_proportion\", \"max_infected\", \"auc_infected\", \"avg_viral_age\", \n",
    "                                           \"avg_immunity\",\"non_vulnerable_proportion_dead\",\"vulnerable_proportion_dead\",\"seed\"])\n",
    "\n",
    "\n",
    "simulation = Simulation(grid_size=25, num_agents=500, agent_class = FullAgent, init_infected_proportion = 0.1,\n",
    "                 proportion_vulnerable=0.1, vul_penalty = 0.1,\n",
    "                 infection_prob=0.25, recovery_time=30, death_prob=0,\n",
    "                 vax_vulnerable=False,\n",
    "                 vax_all=False,\n",
    "                 vax_effect = 0.7,\n",
    "                 viral_age_effect = 0.1,\n",
    "                 immune_adaptation_effect = 0.1,\n",
    "                 plot=True)\n",
    "simulation.run(500)  # Run for 20 iterations\n",
    "# simulation.plot_hist()\n",
    "results = simulation.generate_simulation_report()\n",
    "simulation_results.loc[len(simulation_results)] = results\n",
    "# simulation_results = pd.concat([simulation_results, results], ignore_index=True)\n",
    "simulation_results"
   ]
  },
  {
   "cell_type": "markdown",
   "metadata": {},
   "source": [
    "# Viral Aging and Immunity, and Death (SIIMD)"
   ]
  },
  {
   "cell_type": "code",
   "execution_count": null,
   "metadata": {},
   "outputs": [],
   "source": [
    "simulation_results = pd.DataFrame(columns=[\"step\", \"dead_proportion\", \"max_infected\", \"auc_infected\", \"avg_viral_age\", \n",
    "                                           \"avg_immunity\",\"non_vulnerable_proportion_dead\",\"vulnerable_proportion_dead\",\"seed\"])\n",
    "\n",
    "simulation = Simulation(grid_size=25, num_agents=500, agent_class = FullAgent, init_infected_proportion = 0.1,\n",
    "                 proportion_vulnerable=0.1, vul_penalty = 0.1,\n",
    "                 infection_prob=0.25, recovery_time=30, death_prob=0.01,\n",
    "                 vax_vulnerable=False,\n",
    "                 vax_all=False,\n",
    "                 vax_effect = 0.7,\n",
    "                 viral_age_effect = 0.1,\n",
    "                 immune_adaptation_effect = 0.1,\n",
    "                 plot=True)\n",
    "simulation.run(500)  # Run for 20 iterations\n",
    "# simulation.plot_hist()\n",
    "results = simulation.generate_simulation_report()\n",
    "simulation_results.loc[len(simulation_results)] = results\n",
    "# simulation_results = pd.concat([simulation_results, results], ignore_index=True)\n",
    "simulation_results"
   ]
  },
  {
   "cell_type": "markdown",
   "metadata": {},
   "source": [
    "# Vax Vulnerable"
   ]
  },
  {
   "cell_type": "code",
   "execution_count": null,
   "metadata": {},
   "outputs": [],
   "source": [
    "simulation_results = pd.DataFrame(columns=[\"step\", \"dead_proportion\", \"max_infected\", \"auc_infected\", \"avg_viral_age\", \n",
    "                                           \"avg_immunity\",\"non_vulnerable_proportion_dead\",\"vulnerable_proportion_dead\",\"seed\"])\n",
    "\n",
    "simulation = Simulation(grid_size=25, num_agents=500, agent_class = FullAgent, init_infected_proportion = 0.1,\n",
    "                 proportion_vulnerable=0.1, vul_penalty = 2,\n",
    "                 infection_prob=0.25, recovery_time=30, death_prob=0.01,\n",
    "                 vax_vulnerable=True,\n",
    "                 vax_all=False,\n",
    "                 vax_effect = 0.7,\n",
    "                 viral_age_effect = 0.1,\n",
    "                 immune_adaptation_effect = 0.1,\n",
    "                 plot=True)\n",
    "simulation.run(500)  # Run for 20 iterations\n",
    "# simulation.plot_hist()\n",
    "results = simulation.generate_simulation_report()\n",
    "simulation_results.loc[len(simulation_results)] = results\n",
    "# simulation_results = pd.concat([simulation_results, results], ignore_index=True)\n",
    "simulation_results"
   ]
  },
  {
   "cell_type": "markdown",
   "metadata": {},
   "source": [
    "# Vax All"
   ]
  },
  {
   "cell_type": "code",
   "execution_count": null,
   "metadata": {},
   "outputs": [],
   "source": [
    "simulation_results = pd.DataFrame(columns=[\"step\", \"dead_proportion\", \"max_infected\", \"auc_infected\", \"avg_viral_age\", \n",
    "                                           \"avg_immunity\",\"non_vulnerable_proportion_dead\",\"vulnerable_proportion_dead\",\"seed\"])\n",
    "\n",
    "simulation = Simulation(grid_size=25, num_agents=500, agent_class = FullAgent, init_infected_proportion = 0.1,\n",
    "                 proportion_vulnerable=0.1, vul_penalty = 2,\n",
    "                 infection_prob=0.25, recovery_time=30, death_prob=0.01,\n",
    "                 vax_vulnerable=True,\n",
    "                 vax_all=True,\n",
    "                 vax_effect = 0.7,\n",
    "                 viral_age_effect = 0.05,\n",
    "                 immune_adaptation_effect = 0.05,\n",
    "                 plot=True)\n",
    "simulation.run(500)  # Run for 20 iterations\n",
    "# simulation.plot_hist()\n",
    "results = simulation.generate_simulation_report()\n",
    "simulation_results.loc[len(simulation_results)] = results\n",
    "# simulation_results = pd.concat([simulation_results, results], ignore_index=True)\n",
    "simulation_results"
   ]
  }
 ],
 "metadata": {
  "kernelspec": {
   "display_name": "Python 3",
   "language": "python",
   "name": "python3"
  },
  "language_info": {
   "codemirror_mode": {
    "name": "ipython",
    "version": 3
   },
   "file_extension": ".py",
   "mimetype": "text/x-python",
   "name": "python",
   "nbconvert_exporter": "python",
   "pygments_lexer": "ipython3",
   "version": "3.10.7"
  }
 },
 "nbformat": 4,
 "nbformat_minor": 2
}
